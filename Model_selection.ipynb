{
 "cells": [
  {
   "cell_type": "code",
   "execution_count": 1,
   "metadata": {},
   "outputs": [],
   "source": [
    "import pandas as pd\n",
    "import numpy as np\n",
    "import difflib #find closests string matches\n",
    "import seaborn as sns\n",
    "import matplotlib.pyplot as plt\n",
    "from sklearn.model_selection import train_test_split\n",
    "from sklearn.model_selection import cross_validate\n",
    "from sklearn.pipeline import make_pipeline\n",
    "from sklearn.preprocessing import PolynomialFeatures\n",
    "from sklearn.linear_model import LinearRegression\n",
    "from sklearn import preprocessing\n",
    "from sklearn.preprocessing import MinMaxScaler\n",
    "import seaborn as sns\n",
    "!#pip install pingouin\n",
    "from pingouin import kruskal\n",
    "from sklearn.metrics import mean_squared_error\n",
    "from sklearn.metrics import r2_score\n",
    "from sklearn.linear_model import RidgeCV\n",
    "from sklearn.model_selection import ShuffleSplit\n",
    "from sklearn.preprocessing import StandardScaler"
   ]
  },
  {
   "cell_type": "code",
   "execution_count": 2,
   "metadata": {},
   "outputs": [
    {
     "data": {
      "text/html": [
       "<div>\n",
       "<style scoped>\n",
       "    .dataframe tbody tr th:only-of-type {\n",
       "        vertical-align: middle;\n",
       "    }\n",
       "\n",
       "    .dataframe tbody tr th {\n",
       "        vertical-align: top;\n",
       "    }\n",
       "\n",
       "    .dataframe thead th {\n",
       "        text-align: right;\n",
       "    }\n",
       "</style>\n",
       "<table border=\"1\" class=\"dataframe\">\n",
       "  <thead>\n",
       "    <tr style=\"text-align: right;\">\n",
       "      <th></th>\n",
       "      <th>soldprice</th>\n",
       "      <th>monthly_fee</th>\n",
       "      <th>agent</th>\n",
       "      <th>municipality</th>\n",
       "      <th>municipality_tax_rate</th>\n",
       "      <th>Number of rooms</th>\n",
       "      <th>House type</th>\n",
       "      <th>Asking price</th>\n",
       "      <th>Balcony</th>\n",
       "      <th>Construction year</th>\n",
       "      <th>Operating cost</th>\n",
       "      <th>Letting form</th>\n",
       "      <th>Floor Number</th>\n",
       "      <th>Lift Availability</th>\n",
       "      <th>year</th>\n",
       "    </tr>\n",
       "  </thead>\n",
       "  <tbody>\n",
       "    <tr>\n",
       "      <th>0</th>\n",
       "      <td>1450000</td>\n",
       "      <td>1960.0</td>\n",
       "      <td>Bjurfors</td>\n",
       "      <td>Mölndals kommun</td>\n",
       "      <td>20.51</td>\n",
       "      <td>1.0</td>\n",
       "      <td>Apartment</td>\n",
       "      <td>1350000.0</td>\n",
       "      <td>0.0</td>\n",
       "      <td>1952.0</td>\n",
       "      <td>3600.0</td>\n",
       "      <td>Right of residence</td>\n",
       "      <td>3.0</td>\n",
       "      <td>0.0</td>\n",
       "      <td>2022</td>\n",
       "    </tr>\n",
       "    <tr>\n",
       "      <th>1</th>\n",
       "      <td>1050000</td>\n",
       "      <td>1819.0</td>\n",
       "      <td>Fastighetsbyrån</td>\n",
       "      <td>Göteborgs kommun</td>\n",
       "      <td>21.12</td>\n",
       "      <td>1.0</td>\n",
       "      <td>Apartment</td>\n",
       "      <td>995000.0</td>\n",
       "      <td>0.0</td>\n",
       "      <td>1955.0</td>\n",
       "      <td>3000.0</td>\n",
       "      <td>Right of residence</td>\n",
       "      <td>1.0</td>\n",
       "      <td>0.0</td>\n",
       "      <td>2022</td>\n",
       "    </tr>\n",
       "    <tr>\n",
       "      <th>2</th>\n",
       "      <td>160000</td>\n",
       "      <td>1475.0</td>\n",
       "      <td>Fastighetsbyrån</td>\n",
       "      <td>Falköpings kommun</td>\n",
       "      <td>21.95</td>\n",
       "      <td>1.0</td>\n",
       "      <td>Apartment</td>\n",
       "      <td>165000.0</td>\n",
       "      <td>0.0</td>\n",
       "      <td>1966.0</td>\n",
       "      <td>3000.0</td>\n",
       "      <td>Right of residence</td>\n",
       "      <td>5.0</td>\n",
       "      <td>1.0</td>\n",
       "      <td>2022</td>\n",
       "    </tr>\n",
       "    <tr>\n",
       "      <th>3</th>\n",
       "      <td>1660000</td>\n",
       "      <td>1776.0</td>\n",
       "      <td>HusmanHagberg</td>\n",
       "      <td>Mölndals kommun</td>\n",
       "      <td>20.51</td>\n",
       "      <td>1.0</td>\n",
       "      <td>Apartment</td>\n",
       "      <td>1675000.0</td>\n",
       "      <td>1.0</td>\n",
       "      <td>1957.0</td>\n",
       "      <td>3459.0</td>\n",
       "      <td>Right of residence</td>\n",
       "      <td>1.0</td>\n",
       "      <td>0.0</td>\n",
       "      <td>2022</td>\n",
       "    </tr>\n",
       "    <tr>\n",
       "      <th>4</th>\n",
       "      <td>400000</td>\n",
       "      <td>1654.0</td>\n",
       "      <td>HusmanHagberg</td>\n",
       "      <td>Borås kommun</td>\n",
       "      <td>21.31</td>\n",
       "      <td>1.0</td>\n",
       "      <td>Apartment</td>\n",
       "      <td>425000.0</td>\n",
       "      <td>0.0</td>\n",
       "      <td>1948.0</td>\n",
       "      <td>3984.0</td>\n",
       "      <td>Right of residence</td>\n",
       "      <td>3.0</td>\n",
       "      <td>0.0</td>\n",
       "      <td>2022</td>\n",
       "    </tr>\n",
       "  </tbody>\n",
       "</table>\n",
       "</div>"
      ],
      "text/plain": [
       "   soldprice  monthly_fee            agent       municipality  \\\n",
       "0    1450000       1960.0         Bjurfors    Mölndals kommun   \n",
       "1    1050000       1819.0  Fastighetsbyrån   Göteborgs kommun   \n",
       "2     160000       1475.0  Fastighetsbyrån  Falköpings kommun   \n",
       "3    1660000       1776.0    HusmanHagberg    Mölndals kommun   \n",
       "4     400000       1654.0    HusmanHagberg       Borås kommun   \n",
       "\n",
       "   municipality_tax_rate  Number of rooms House type  Asking price  Balcony  \\\n",
       "0                  20.51              1.0  Apartment     1350000.0      0.0   \n",
       "1                  21.12              1.0  Apartment      995000.0      0.0   \n",
       "2                  21.95              1.0  Apartment      165000.0      0.0   \n",
       "3                  20.51              1.0  Apartment     1675000.0      1.0   \n",
       "4                  21.31              1.0  Apartment      425000.0      0.0   \n",
       "\n",
       "   Construction year  Operating cost        Letting form  Floor Number  \\\n",
       "0             1952.0          3600.0  Right of residence           3.0   \n",
       "1             1955.0          3000.0  Right of residence           1.0   \n",
       "2             1966.0          3000.0  Right of residence           5.0   \n",
       "3             1957.0          3459.0  Right of residence           1.0   \n",
       "4             1948.0          3984.0  Right of residence           3.0   \n",
       "\n",
       "   Lift Availability  year  \n",
       "0                0.0  2022  \n",
       "1                0.0  2022  \n",
       "2                1.0  2022  \n",
       "3                0.0  2022  \n",
       "4                0.0  2022  "
      ]
     },
     "execution_count": 2,
     "metadata": {},
     "output_type": "execute_result"
    }
   ],
   "source": [
    "#load housing data - Basic information - from webscraper I\n",
    "df = pd.read_csv('/Users/navodasenavirathne/Desktop/ML/hemnet/HousingData/fin_housing_data.csv', delimiter=',')\n",
    "df = df.iloc[:,1:]\n",
    "df.head()\n"
   ]
  },
  {
   "cell_type": "markdown",
   "metadata": {},
   "source": [
    "### Train test split"
   ]
  },
  {
   "cell_type": "code",
   "execution_count": 3,
   "metadata": {},
   "outputs": [],
   "source": [
    "# split into input and output elements\n",
    "X, y = df.iloc[:, 1:], df.iloc[:, 0]"
   ]
  },
  {
   "cell_type": "code",
   "execution_count": 4,
   "metadata": {},
   "outputs": [],
   "source": [
    "#Train test split\n",
    "X_train, X_test, y_train, y_test = train_test_split(X, y, test_size=0.20, random_state=40)\n"
   ]
  },
  {
   "cell_type": "code",
   "execution_count": 5,
   "metadata": {},
   "outputs": [],
   "source": [
    "#X_train, X_valiadtion, y_train, y_valiadtion = train_test_split(X_train, y_train, test_size=0.20, random_state=40)\n"
   ]
  },
  {
   "cell_type": "code",
   "execution_count": 6,
   "metadata": {},
   "outputs": [],
   "source": [
    "#Reset index\n",
    "X_train.reset_index(drop=True, inplace=True)\n",
    "X_test.reset_index(drop=True, inplace=True)\n",
    "y_train.reset_index(drop=True, inplace=True)\n",
    "y_test.reset_index(drop=True, inplace=True)"
   ]
  },
  {
   "cell_type": "markdown",
   "metadata": {},
   "source": [
    "### Numerical data standardization"
   ]
  },
  {
   "cell_type": "code",
   "execution_count": 7,
   "metadata": {},
   "outputs": [],
   "source": [
    "from sklearn.preprocessing import StandardScaler\n",
    "\n",
    "numerical_variables = [col for col in X_train.columns if X_train[col].dtypes!=\"object\"]\n",
    "\n",
    "scaler = StandardScaler()\n",
    "X_train[numerical_variables] = scaler.fit_transform(X_train[numerical_variables])\n",
    "\n",
    "scaler = StandardScaler()\n",
    "X_test[numerical_variables] = scaler.fit_transform(X_test[numerical_variables])"
   ]
  },
  {
   "cell_type": "markdown",
   "metadata": {},
   "source": [
    "### Categorical data encoding\n"
   ]
  },
  {
   "cell_type": "code",
   "execution_count": 8,
   "metadata": {},
   "outputs": [],
   "source": [
    "# Applying target encoding on categorical variables based on the soldprices.\n",
    "def encode_categorical_data (df,cat_var,target_var):\n",
    "\n",
    "    prices = df.groupby([cat_var])[target_var].mean().sort_values().index\n",
    "\n",
    "    price_dict = { key:idx for idx, key in enumerate(prices)}\n",
    "\n",
    "    return price_dict\n"
   ]
  },
  {
   "cell_type": "code",
   "execution_count": 9,
   "metadata": {},
   "outputs": [],
   "source": [
    "#Encode training data\n",
    "train_df = pd.concat([X_train, y_train], axis=1)\n",
    "\n",
    "categorical_variables = [col for col in train_df.columns if train_df[col].dtypes==\"object\"]\n",
    "target_var = \"soldprice\"\n",
    "\n",
    "dict_map = {}\n",
    "\n",
    "\n",
    "for cat_var in categorical_variables:\n",
    "\n",
    "    #Target encoded on training data\n",
    "    price_dict = encode_categorical_data (train_df,cat_var,target_var)\n",
    "    dict_map[cat_var] = price_dict\n",
    "\n",
    "    #traing data encoded\n",
    "    train_df[cat_var] = train_df[cat_var].map(price_dict)\n",
    "\n",
    "    #test data encoded\n",
    "    X_test[cat_var] = X_test[cat_var].map(price_dict)\n"
   ]
  },
  {
   "cell_type": "code",
   "execution_count": 10,
   "metadata": {},
   "outputs": [],
   "source": [
    "X_train, y_train = train_df.iloc[:,0:len(train_df.columns)-1], train_df.iloc[:,-1]"
   ]
  },
  {
   "cell_type": "markdown",
   "metadata": {},
   "source": [
    "### Feature selection"
   ]
  },
  {
   "cell_type": "code",
   "execution_count": 11,
   "metadata": {},
   "outputs": [
    {
     "data": {
      "text/plain": [
       "<AxesSubplot:>"
      ]
     },
     "execution_count": 11,
     "metadata": {},
     "output_type": "execute_result"
    },
    {
     "data": {
      "image/png": "[encoded data removed]",
      "text/plain": [
       "<Figure size 432x288 with 1 Axes>"
      ]
     },
     "metadata": {
      "needs_background": "light"
     },
     "output_type": "display_data"
    }
   ],
   "source": [
    "from sklearn.feature_selection import mutual_info_regression\n",
    "pd.DataFrame(mutual_info_regression(X_train,y_train),index=X.columns,columns=['Mutual_info']).sort_values(by='Mutual_info', ascending=False).plot(kind='bar')"
   ]
  },
  {
   "cell_type": "code",
   "execution_count": 12,
   "metadata": {},
   "outputs": [
    {
     "data": {
      "text/html": [
       "<div>\n",
       "<style scoped>\n",
       "    .dataframe tbody tr th:only-of-type {\n",
       "        vertical-align: middle;\n",
       "    }\n",
       "\n",
       "    .dataframe tbody tr th {\n",
       "        vertical-align: top;\n",
       "    }\n",
       "\n",
       "    .dataframe thead th {\n",
       "        text-align: right;\n",
       "    }\n",
       "</style>\n",
       "<table border=\"1\" class=\"dataframe\">\n",
       "  <thead>\n",
       "    <tr style=\"text-align: right;\">\n",
       "      <th></th>\n",
       "      <th>Mutual_info</th>\n",
       "    </tr>\n",
       "  </thead>\n",
       "  <tbody>\n",
       "    <tr>\n",
       "      <th>monthly_fee</th>\n",
       "      <td>0.134282</td>\n",
       "    </tr>\n",
       "    <tr>\n",
       "      <th>agent</th>\n",
       "      <td>0.214547</td>\n",
       "    </tr>\n",
       "    <tr>\n",
       "      <th>municipality</th>\n",
       "      <td>0.449622</td>\n",
       "    </tr>\n",
       "    <tr>\n",
       "      <th>municipality_tax_rate</th>\n",
       "      <td>0.429055</td>\n",
       "    </tr>\n",
       "    <tr>\n",
       "      <th>Number of rooms</th>\n",
       "      <td>0.124560</td>\n",
       "    </tr>\n",
       "    <tr>\n",
       "      <th>House type</th>\n",
       "      <td>0.016282</td>\n",
       "    </tr>\n",
       "    <tr>\n",
       "      <th>Asking price</th>\n",
       "      <td>2.152493</td>\n",
       "    </tr>\n",
       "    <tr>\n",
       "      <th>Balcony</th>\n",
       "      <td>0.023543</td>\n",
       "    </tr>\n",
       "    <tr>\n",
       "      <th>Construction year</th>\n",
       "      <td>0.234290</td>\n",
       "    </tr>\n",
       "    <tr>\n",
       "      <th>Operating cost</th>\n",
       "      <td>0.066108</td>\n",
       "    </tr>\n",
       "    <tr>\n",
       "      <th>Letting form</th>\n",
       "      <td>0.015894</td>\n",
       "    </tr>\n",
       "    <tr>\n",
       "      <th>Floor Number</th>\n",
       "      <td>0.026608</td>\n",
       "    </tr>\n",
       "    <tr>\n",
       "      <th>Lift Availability</th>\n",
       "      <td>0.048762</td>\n",
       "    </tr>\n",
       "    <tr>\n",
       "      <th>year</th>\n",
       "      <td>0.071219</td>\n",
       "    </tr>\n",
       "  </tbody>\n",
       "</table>\n",
       "</div>"
      ],
      "text/plain": [
       "                       Mutual_info\n",
       "monthly_fee               0.134282\n",
       "agent                     0.214547\n",
       "municipality              0.449622\n",
       "municipality_tax_rate     0.429055\n",
       "Number of rooms           0.124560\n",
       "House type                0.016282\n",
       "Asking price              2.152493\n",
       "Balcony                   0.023543\n",
       "Construction year         0.234290\n",
       "Operating cost            0.066108\n",
       "Letting form              0.015894\n",
       "Floor Number              0.026608\n",
       "Lift Availability         0.048762\n",
       "year                      0.071219"
      ]
     },
     "execution_count": 12,
     "metadata": {},
     "output_type": "execute_result"
    }
   ],
   "source": [
    "pd.DataFrame(mutual_info_regression(X_train,y_train),index=X.columns,columns=['Mutual_info'])"
   ]
  },
  {
   "cell_type": "markdown",
   "metadata": {},
   "source": [
    "We can see that while the asking price has a high level of mutual information shared with the sold price, features like floor number, balcony, house type and letting form has less mutual information. However, as the latter mentioned features also have a non-zero mutual information shared with the target variable we leave them as it is for model training."
   ]
  },
  {
   "cell_type": "markdown",
   "metadata": {},
   "source": [
    "### Initial model training - Polynomial linear regression"
   ]
  },
  {
   "cell_type": "code",
   "execution_count": 13,
   "metadata": {},
   "outputs": [],
   "source": [
    "def compute_mape(y_true, y_pred):\n",
    "    y_true = np.array(y_true).reshape(1,-1)\n",
    "    y_pred = np.array(y_pred).reshape(1,-1)\n",
    "\n",
    "    abs_error = np.abs(np.array(y_true) - np.array(y_pred))\n",
    "    perc_error = (abs_error/np.array(y_true))*100\n",
    "    mean_mape = np.mean(perc_error)\n",
    "    median_mape = np.median(perc_error)\n",
    "\n",
    "    return mean_mape"
   ]
  },
  {
   "cell_type": "code",
   "execution_count": 14,
   "metadata": {},
   "outputs": [],
   "source": [
    "def lr_model(lm, X_train, y_train):\n",
    "    lcv = cross_validate(lm, X_train, y_train,\n",
    "    cv=10, scoring=[\"neg_mean_squared_error\",'r2'],\n",
    "    return_train_score=True,\n",
    "    return_estimator=True)\n",
    "\n",
    "    lm.fit(X_train, y_train)\n",
    "\n",
    "    return lm\n",
    "\n",
    "def lr_predict(model):\n",
    "    #Test accuracy\n",
    "    #predictions on test   data\n",
    "    y_pred_mcv = model.predict(X_test)\n",
    "    multi_mse = mean_squared_error(y_test.ravel(), y_pred_mcv.ravel())\n",
    "    multi_r2 = r2_score(y_test.ravel(), y_pred_mcv.ravel())\n",
    "    mape = compute_mape(y_test, y_pred_mcv)\n",
    "    \n",
    "    sns.distplot(np.array(y_test).reshape(1,-1)-np.array(y_pred_mcv).reshape(1,-1)).set(title=\"Predicion error distribution\")\n",
    "    \n",
    "\n",
    "    print(\"MSE: \",np.round(multi_mse,2))\n",
    "    print(\"R squared: \",np.round(multi_r2,2))\n",
    "    print(\"Mean Absolute Percentage Error: \",np.round(mape,2))\n",
    "    print(\"Accuracy: \", np.round(100-mape,2))\n",
    "    \n"
   ]
  },
  {
   "cell_type": "code",
   "execution_count": 15,
   "metadata": {},
   "outputs": [],
   "source": [
    "#Polynomial linear regression wirh cross validation\n",
    "lm = make_pipeline(PolynomialFeatures(degree=2), LinearRegression())\n",
    "model = lr_model(lm, X_train, y_train)\n"
   ]
  },
  {
   "cell_type": "code",
   "execution_count": 16,
   "metadata": {},
   "outputs": [],
   "source": [
    "#if test data has any unkown categorical variables remove them from prediction\n",
    "test_df = pd.concat([X_test, y_test],axis=1)\n",
    "test_df.dropna(inplace=True)\n",
    "X_test, y_test = test_df.iloc[:,0:len(test_df.columns)-1], test_df.iloc[:,-1]"
   ]
  },
  {
   "cell_type": "code",
   "execution_count": 17,
   "metadata": {},
   "outputs": [
    {
     "name": "stdout",
     "output_type": "stream",
     "text": [
      "MSE:  109878407703.3\n",
      "R squared:  0.92\n",
      "Mean Absolute Percentage Error:  10.27\n",
      "Accuracy:  89.73\n"
     ]
    },
    {
     "name": "stderr",
     "output_type": "stream",
     "text": [
      "/Users/navodasenavirathne/learn_python/lesson01/.venv/lib/python3.9/site-packages/seaborn/distributions.py:2619: FutureWarning: `distplot` is a deprecated function and will be removed in a future version. Please adapt your code to use either `displot` (a figure-level function with similar flexibility) or `histplot` (an axes-level function for histograms).\n",
      "  warnings.warn(msg, FutureWarning)\n"
     ]
    },
    {
     "data": {
      "image/png": "[encoded data removed]",
      "text/plain": [
       "<Figure size 432x288 with 1 Axes>"
      ]
     },
     "metadata": {
      "needs_background": "light"
     },
     "output_type": "display_data"
    }
   ],
   "source": [
    "lr_predict(model)"
   ]
  },
  {
   "cell_type": "markdown",
   "metadata": {},
   "source": [
    "### Outlier detection\n",
    "\n",
    "Outlier detection should be carried out on the training data. If outlier detection is carried out on the entire dataset (training + test) then the model would have access to the information about the test set not used to train the model causing data lekage. This will make us over estimating the model's performance."
   ]
  },
  {
   "cell_type": "code",
   "execution_count": 18,
   "metadata": {},
   "outputs": [],
   "source": [
    "train_df = pd.concat([X_train, y_train], axis=1)"
   ]
  },
  {
   "cell_type": "code",
   "execution_count": 19,
   "metadata": {},
   "outputs": [
    {
     "data": {
      "image/png": "[encoded data removed]",
      "text/plain": [
       "<Figure size 432x288 with 1 Axes>"
      ]
     },
     "metadata": {
      "needs_background": "light"
     },
     "output_type": "display_data"
    }
   ],
   "source": [
    "sns.boxplot(data=train_df,x='House type', y='soldprice')\n",
    "x=plt.xticks(rotation=90)"
   ]
  },
  {
   "cell_type": "markdown",
   "metadata": {},
   "source": [
    "Here we depict the box-plots on the sale prices with respect to the housing type. We can see that apartments, houses, and holiday homes have outliers."
   ]
  },
  {
   "cell_type": "markdown",
   "metadata": {},
   "source": [
    "#### IsolationForest for outlier detection"
   ]
  },
  {
   "cell_type": "code",
   "execution_count": 20,
   "metadata": {},
   "outputs": [
    {
     "name": "stdout",
     "output_type": "stream",
     "text": [
      "Total outliers detected : 865 \n"
     ]
    }
   ],
   "source": [
    "from sklearn.ensemble import IsolationForest\n",
    "iso = IsolationForest(contamination=0.05)\n",
    "outlier_score = iso.fit_predict(X_train.values)\n",
    "inliers = outlier_score != -1\n",
    "outliers = outlier_score == -1\n",
    "\n",
    "print(\"Total outliers detected : {} \".format(np.sum(outliers)))"
   ]
  },
  {
   "cell_type": "code",
   "execution_count": 21,
   "metadata": {},
   "outputs": [],
   "source": [
    "#remove outlier data\n",
    "X_train, y_train = X_train[inliers], y_train[inliers]"
   ]
  },
  {
   "cell_type": "code",
   "execution_count": 22,
   "metadata": {},
   "outputs": [
    {
     "name": "stdout",
     "output_type": "stream",
     "text": [
      "MSE:  120458382796.93\n",
      "R squared:  0.91\n",
      "Mean Absolute Percentage Error:  11.28\n",
      "Accuracy:  88.72\n"
     ]
    },
    {
     "name": "stderr",
     "output_type": "stream",
     "text": [
      "/Users/navodasenavirathne/learn_python/lesson01/.venv/lib/python3.9/site-packages/seaborn/distributions.py:2619: FutureWarning: `distplot` is a deprecated function and will be removed in a future version. Please adapt your code to use either `displot` (a figure-level function with similar flexibility) or `histplot` (an axes-level function for histograms).\n",
      "  warnings.warn(msg, FutureWarning)\n"
     ]
    },
    {
     "data": {
      "image/png": "[encoded data removed]",
      "text/plain": [
       "<Figure size 432x288 with 1 Axes>"
      ]
     },
     "metadata": {
      "needs_background": "light"
     },
     "output_type": "display_data"
    }
   ],
   "source": [
    "lm = make_pipeline(PolynomialFeatures(degree=2), LinearRegression())\n",
    "model = lr_model(lm, X_train, y_train)\n",
    "lr_predict(model)"
   ]
  },
  {
   "cell_type": "markdown",
   "metadata": {},
   "source": [
    "After removing about 865 outlier data points the accuracy drops from 89.73 to 88.99. "
   ]
  },
  {
   "cell_type": "markdown",
   "metadata": {},
   "source": [
    "### RandomForestRegressor"
   ]
  },
  {
   "cell_type": "code",
   "execution_count": 23,
   "metadata": {},
   "outputs": [
    {
     "name": "stdout",
     "output_type": "stream",
     "text": [
      "MSE:  60923723725.11\n",
      "R squared:  0.96\n",
      "Mean Absolute Percentage Error:  7.75\n",
      "Accuracy:  92.25\n"
     ]
    },
    {
     "name": "stderr",
     "output_type": "stream",
     "text": [
      "/Users/navodasenavirathne/learn_python/lesson01/.venv/lib/python3.9/site-packages/seaborn/distributions.py:2619: FutureWarning: `distplot` is a deprecated function and will be removed in a future version. Please adapt your code to use either `displot` (a figure-level function with similar flexibility) or `histplot` (an axes-level function for histograms).\n",
      "  warnings.warn(msg, FutureWarning)\n"
     ]
    },
    {
     "data": {
      "image/png": "[encoded data removed]",
      "text/plain": [
       "<Figure size 432x288 with 1 Axes>"
      ]
     },
     "metadata": {
      "needs_background": "light"
     },
     "output_type": "display_data"
    }
   ],
   "source": [
    "from sklearn.ensemble import RandomForestRegressor\n",
    "rf = make_pipeline(RandomForestRegressor()) \n",
    "model = lr_model(rf, X_train, y_train)\n",
    "lr_predict(model)\n"
   ]
  },
  {
   "cell_type": "markdown",
   "metadata": {},
   "source": [
    "By using RandomForestRegressor we can improve the accuracy further upto 92.28% with a r-sqaured value of 0.96 which is remarkable."
   ]
  },
  {
   "cell_type": "markdown",
   "metadata": {},
   "source": [
    "When comparing with polynomial LR and RandomForestRegressor performs better."
   ]
  },
  {
   "cell_type": "markdown",
   "metadata": {},
   "source": [
    "### Model Selection"
   ]
  },
  {
   "cell_type": "code",
   "execution_count": 24,
   "metadata": {},
   "outputs": [],
   "source": [
    "n_estimators = [int(x) for x in np.linspace(start=100,stop=200,num=2)]\n",
    "m_features = ['auto','sqrt']\n",
    "max_depth = [int(x) for x in np.linspace(start=10, stop=20, num=2)]\n",
    "min_samples_split = [5, 10]"
   ]
  },
  {
   "cell_type": "code",
   "execution_count": 25,
   "metadata": {},
   "outputs": [],
   "source": [
    "from sklearn.model_selection import RandomizedSearchCV\n",
    "# Number of trees in random forest\n",
    "n_estimators = [int(x) for x in np.linspace(start = 100, stop = 500, num = 2)]\n",
    "# Number of features to consider at every split\n",
    "max_features = ['auto', 'sqrt']\n",
    "# Maximum number of levels in tree\n",
    "max_depth = [int(x) for x in np.linspace(10, 20, num = 2)]\n",
    "max_depth.append(None)\n",
    "# Minimum number of samples required to split a node\n",
    "min_samples_split = [5, 10]\n",
    "# Minimum number of samples required to decide a leaf node\n",
    "mln_samples_leaf = [2, 4]\n",
    "# Method of selecting samples for training each tree\n",
    "bootstrap = [True, False]\n",
    "# Create the random grid\n",
    "random_grid = {'n_estimators': n_estimators,\n",
    "               'max_features': max_features,\n",
    "               'max_depth': max_depth,\n",
    "               'min_samples_split': min_samples_split,\n",
    "               'mln_samples_leaf': mln_samples_leaf,\n",
    "               'bootstrap': bootstrap\n",
    "               }\n",
    "\n"
   ]
  },
  {
   "cell_type": "code",
   "execution_count": 26,
   "metadata": {},
   "outputs": [
    {
     "data": {
      "text/plain": [
       "{'n_estimators': [100, 500],\n",
       " 'max_features': ['auto', 'sqrt'],\n",
       " 'max_depth': [10, 20, None],\n",
       " 'min_samples_split': [5, 10],\n",
       " 'mln_samples_leaf': [2, 4],\n",
       " 'bootstrap': [True, False]}"
      ]
     },
     "execution_count": 26,
     "metadata": {},
     "output_type": "execute_result"
    }
   ],
   "source": [
    "random_grid"
   ]
  },
  {
   "cell_type": "code",
   "execution_count": 27,
   "metadata": {},
   "outputs": [
    {
     "name": "stdout",
     "output_type": "stream",
     "text": [
      "Fitting 3 folds for each of 96 candidates, totalling 288 fits\n"
     ]
    },
    {
     "name": "stderr",
     "output_type": "stream",
     "text": [
      "/Users/navodasenavirathne/learn_python/lesson01/.venv/lib/python3.9/site-packages/sklearn/model_selection/_search.py:292: UserWarning: The total space of parameters 96 is smaller than n_iter=100. Running 96 iterations. For exhaustive searches, use GridSearchCV.\n",
      "  warnings.warn(\n"
     ]
    }
   ],
   "source": [
    "# Use the random grid to search for best hyperparameters\n",
    "# First create the base model to tune\n",
    "rf = RandomForestRegressor()\n",
    "# Random search of parameters, using 3 fold cross validation, \n",
    "# search across 100 different combinations, and use all available cores\n",
    "rf_random = RandomizedSearchCV(estimator = rf, param_distributions = random_grid, n_iter = 100, cv = 3, verbose=2, random_state=42, n_jobs = -1)\n",
    "# Fit the random search model\n",
    "rf_random.fit(X_train, y_train)"
   ]
  },
  {
   "cell_type": "code",
   "execution_count": null,
   "metadata": {},
   "outputs": [],
   "source": [
    "rf_random.best_params_\n"
   ]
  },
  {
   "cell_type": "code",
   "execution_count": null,
   "metadata": {},
   "outputs": [],
   "source": [
    "best_model = rf_random.best_estimator_\n",
    "lr_predict(best_model)\n"
   ]
  },
  {
   "cell_type": "markdown",
   "metadata": {},
   "source": [
    "After grid search we can see that the accuracy has slightly increased from 92.29 to 92.32."
   ]
  }
 ],
 "metadata": {
  "interpreter": {
   "hash": "2317b65cacac67006821ea511084edd6e9b76a4d8e935823f49c7dae49104158"
  },
  "kernelspec": {
   "display_name": "Python 3.9.10 ('.venv': venv)",
   "language": "python",
   "name": "python3"
  },
  "language_info": {
   "codemirror_mode": {
    "name": "ipython",
    "version": 3
   },
   "file_extension": ".py",
   "mimetype": "text/x-python",
   "name": "python",
   "nbconvert_exporter": "python",
   "pygments_lexer": "ipython3",
   "version": "3.9.10"
  },
  "orig_nbformat": 4
 },
 "nbformat": 4,
 "nbformat_minor": 2
}
